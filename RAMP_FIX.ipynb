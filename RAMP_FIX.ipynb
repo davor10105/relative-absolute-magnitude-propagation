{
 "cells": [
  {
   "cell_type": "code",
   "execution_count": 1,
   "metadata": {},
   "outputs": [],
   "source": [
    "import sys\n",
    "\n",
    "sys.path.append(\"ramp_gae\")"
   ]
  },
  {
   "cell_type": "code",
   "execution_count": 2,
   "metadata": {},
   "outputs": [
    {
     "name": "stderr",
     "output_type": "stream",
     "text": [
      "/home/davor/miniconda3/envs/ramp_env/lib/python3.10/site-packages/tqdm/auto.py:22: TqdmWarning: IProgress not found. Please update jupyter and ipywidgets. See https://ipywidgets.readthedocs.io/en/stable/user_install.html\n",
      "  from .autonotebook import tqdm as notebook_tqdm\n"
     ]
    }
   ],
   "source": [
    "import torch\n",
    "from torchvision.transforms.functional import pil_to_tensor\n",
    "import torchvision.transforms as T\n",
    "from PIL import Image\n",
    "import timm\n",
    "from ramp_gae.ramp.models import TimmVGG16, TimmResNet, TimmVisionTransformer\n",
    "from ramp_gae.ramp.relevancy_methods import IntRelevancyMethod\n",
    "from ramp_gae.utils import preprocess_pil_image, visualize_tensor_relevance_batch"
   ]
  },
  {
   "cell_type": "code",
   "execution_count": 3,
   "metadata": {},
   "outputs": [],
   "source": [
    "device = \"cuda\"\n",
    "# model = timm.create_model('vgg16', pretrained=True)\n",
    "# ramp_model = TimmVGG16(model)\n",
    "# model = timm.create_model('resnet50', pretrained=True)\n",
    "# ramp_model = TimmResNet(model)\n",
    "model = timm.create_model(\"vit_base_patch16_224\", pretrained=True)\n",
    "ramp_model = TimmVisionTransformer(model)\n",
    "ramp_model.to(device)\n",
    "ramp_model.eval()\n",
    "is_vit = isinstance(ramp_model, TimmVisionTransformer)\n",
    "relevancy_method = IntRelevancyMethod(ramp_model, rule=\"intline\", relevancy_type=\"contrastive\", device=device)"
   ]
  },
  {
   "cell_type": "code",
   "execution_count": 4,
   "metadata": {},
   "outputs": [],
   "source": [
    "image = Image.open(\"dog_cat.jpg\")\n",
    "image = preprocess_pil_image(image, is_vit=is_vit)"
   ]
  },
  {
   "cell_type": "code",
   "execution_count": 5,
   "metadata": {},
   "outputs": [
    {
     "ename": "",
     "evalue": "",
     "output_type": "error",
     "traceback": [
      "\u001b[1;31mThe Kernel crashed while executing code in the current cell or a previous cell. \n",
      "\u001b[1;31mPlease review the code in the cell(s) to identify a possible cause of the failure. \n",
      "\u001b[1;31mClick <a href='https://aka.ms/vscodeJupyterKernelCrash'>here</a> for more info. \n",
      "\u001b[1;31mView Jupyter <a href='command:jupyter.viewOutput'>log</a> for further details."
     ]
    }
   ],
   "source": [
    "x = image.unsqueeze(0)\n",
    "r, _, _ = relevancy_method.relevancy(x, choose_max=True)\n",
    "visualize_tensor_relevance_batch(x, r, is_vit=is_vit)"
   ]
  },
  {
   "cell_type": "code",
   "execution_count": null,
   "metadata": {},
   "outputs": [],
   "source": []
  }
 ],
 "metadata": {
  "kernelspec": {
   "display_name": "ramp_env",
   "language": "python",
   "name": "python3"
  },
  "language_info": {
   "codemirror_mode": {
    "name": "ipython",
    "version": 3
   },
   "file_extension": ".py",
   "mimetype": "text/x-python",
   "name": "python",
   "nbconvert_exporter": "python",
   "pygments_lexer": "ipython3",
   "version": "3.10.15"
  }
 },
 "nbformat": 4,
 "nbformat_minor": 2
}
